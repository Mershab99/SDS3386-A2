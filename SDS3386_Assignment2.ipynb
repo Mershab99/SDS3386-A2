{
 "cells": [
  {
   "cell_type": "markdown",
   "id": "1f189f9d",
   "metadata": {},
   "source": [
    "\n",
    "# SDS 3386 2022 Fall Assignment 2: Data Wrangling\n",
    "\n",
    "2022 Fall, Tanya Schmah\n",
    "\n",
    "## Due Thursday October 6th at 6pm, on Brightspace\n",
    "\n",
    "Total Marks: 10\n",
    "\n",
    "This is a **group** assignment. You should complete it with two other people, preferably those you have chosen to work on a project with (though this is not required). By the time you submit your assignment, all group members should understand all answers and be able to explain them.\n",
    "\n",
    "Start here: Download this file to your laptop, rename or make a copy of it with filename in the format: SDS3386_A2_Last1_Last2_Last3.ipynb\n",
    "(In this class, last names are unique.)\n",
    "Complete the assignment by editing the file. If group members work on different copies of the notebook, then when you're finished you must combine your notebooks into one \"clean\" copy for submission. When finished, export as HTML, and upload both the jupyter notebook and the HTML file to Brightspace. Each student should submit a copy of the same assignment to Brightspace, for easier marking.\n",
    "\n",
    "You may copy and modify code from your Lab exercises, but if you copy more than two lines from another source, note the source in a comment."
   ]
  },
  {
   "cell_type": "markdown",
   "id": "7c71c166",
   "metadata": {},
   "source": [
    "# Question 1 (2 points)\n",
    "\n",
    "Using the basketball data in \"https://raw.githubusercontent.com/fivethirtyeight/data/master/nba-elo/nbaallelo.csv\", determine the proportion of Home games ('game_location' = 'H') won, and the proportion of Away games won, over all the seasons of the NBA recorded in this dataset.\n",
    "\n",
    "*Hint: run 'df.value_counts?'*"
   ]
  },
  {
   "cell_type": "markdown",
   "id": "2a245e06",
   "metadata": {},
   "source": [
    "# Question 2 (4 points)\n",
    "\n",
    "Use the dataset `grades.csv` provided with this assignment. \n",
    "\n",
    "Suppose the dataset contains grades out of 10 for each assignment and out of 100 for the exam. The grading policy for the course is:\n",
    "\n",
    "    10% for each assignment and 70% for the final exam.\n",
    "\n",
    " \n",
    "\n",
    "A) Read the data into a dataframe. Is this dataframe tidy? Justify your answer. If \"No\", then list all ways in which it is not tidy. \n",
    "\n",
    "B) Add a new column 'Final', calculated according to the above formula. Put 'INC' (for incomplete) for the student who didn't write the exam. Save the data to a file 'grades_calculated.csv', *without* an initial column containing row numbers (i.e. indexes).\n",
    "\n",
    "*Hint: run 'df.to_csv?'*\n",
    "\n",
    "C) Make a graphic showing all individual students' grades for all assessments. \n",
    "\n"
   ]
  },
  {
   "cell_type": "markdown",
   "id": "b56e5830",
   "metadata": {
    "scrolled": false
   },
   "source": [
    "# Question 3 (4 points)\n",
    "\n",
    "This question uses a larger subset of the Billboard Top 100 sets, in the dataset `billboardhw.csv` provided with this assignment. It is similar to the smaller subset that appeared in Question 6 in the Week 3 Lab.\n",
    "\n",
    "\n",
    "A) Select all songs that first appeared on the charts in January 2000. (The date of first appearance is 'date_entered'.) \n",
    "\n",
    "*Hint: use pd.to_datetime()*\n",
    "\n",
    "B) Partially tidy this chart, by putting all rankings (for all weeks) in one column named 'ranking'.\n",
    "\n",
    "*Hint: use pd.melt() rather than wide_to_long().*\n",
    "\n",
    "C) Produce a single graphic showing, for each song in the chart, a line graph of ranking versus time (week)."
   ]
  }
 ],
 "metadata": {
  "celltoolbar": "Slideshow",
  "kernelspec": {
   "display_name": "Python 3 (ipykernel)",
   "language": "python",
   "name": "python3"
  },
  "language_info": {
   "codemirror_mode": {
    "name": "ipython",
    "version": 3
   },
   "file_extension": ".py",
   "mimetype": "text/x-python",
   "name": "python",
   "nbconvert_exporter": "python",
   "pygments_lexer": "ipython3",
   "version": "3.9.13"
  }
 },
 "nbformat": 4,
 "nbformat_minor": 5
}
