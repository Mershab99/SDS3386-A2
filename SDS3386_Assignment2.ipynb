{
 "cells": [
  {
   "cell_type": "markdown",
   "id": "1f189f9d",
   "metadata": {},
   "source": [
    "\n",
    "# SDS 3386 2022 Fall Assignment 2: Data Wrangling\n",
    "\n",
    "2022 Fall, Tanya Schmah\n",
    "\n",
    "## Due Thursday October 6th at 6pm, on Brightspace\n",
    "\n",
    "Total Marks: 10\n",
    "\n",
    "This is a **group** assignment. You should complete it with two other people, preferably those you have chosen to work on a project with (though this is not required). By the time you submit your assignment, all group members should understand all answers and be able to explain them.\n",
    "\n",
    "Start here: Download this file to your laptop, rename or make a copy of it with filename in the format: SDS3386_A2_Last1_Last2_Last3.ipynb\n",
    "(In this class, last names are unique.)\n",
    "Complete the assignment by editing the file. If group members work on different copies of the notebook, then when you're finished you must combine your notebooks into one \"clean\" copy for submission. When finished, export as HTML, and upload both the jupyter notebook and the HTML file to Brightspace. Each student should submit a copy of the same assignment to Brightspace, for easier marking.\n",
    "\n",
    "You may copy and modify code from your Lab exercises, but if you copy more than two lines from another source, note the source in a comment."
   ]
  },
  {
   "cell_type": "markdown",
   "id": "7c71c166",
   "metadata": {},
   "source": [
    "# Question 1 (2 points)\n",
    "\n",
    "Using the basketball data in \"https://raw.githubusercontent.com/fivethirtyeight/data/master/nba-elo/nbaallelo.csv\", determine the proportion of Home games ('game_location' = 'H') won, and the proportion of Away games won, over all the seasons of the NBA recorded in this dataset.\n",
    "\n",
    "*Hint: run 'df.value_counts?'*"
   ]
  },
  {
   "cell_type": "markdown",
   "id": "2a245e06",
   "metadata": {},
   "source": [
    "# Question 2 (4 points)\n",
    "\n",
    "Use the dataset `grades.csv` provided with this assignment. \n",
    "\n",
    "Suppose the dataset contains grades out of 10 for each assignment and out of 100 for the exam. The grading policy for the course is:\n",
    "\n",
    "    10% for each assignment and 70% for the final exam.\n",
    "\n",
    " \n",
    "\n",
    "A) Read the data into a dataframe. Is this dataframe tidy? Justify your answer. If \"No\", then list all ways in which it is not tidy. \n",
    "\n",
    "B) Add a new column 'Final', calculated according to the above formula. Put 'INC' (for incomplete) for the student who didn't write the exam. Save the data to a file 'grades_calculated.csv', *without* an initial column containing row numbers (i.e. indexes).\n",
    "\n",
    "*Hint: run 'df.to_csv?'*\n",
    "\n",
    "C) Make a graphic showing all individual students' grades for all assessments. \n",
    "\n"
   ]
  },
  {
   "cell_type": "code",
   "execution_count": 70,
   "id": "19168606",
   "metadata": {},
   "outputs": [
    {
     "name": "stdout",
     "output_type": "stream",
     "text": [
      "     Name  Asst1     Asst2  Asst3       Exam\n",
      "0    Adam      9  8.000000    8.0  60.000000\n",
      "1    Bing      7  8.000000    7.0  75.000000\n",
      "2   Carla      6       NaN    5.0        NaN\n",
      "3  Darius      6  7.000000   10.0  80.000000\n",
      "4    mean      7  7.666667    7.5  71.666667\n"
     ]
    }
   ],
   "source": [
    "# A)\n",
    "import pandas as pd\n",
    "grades = pd.read_csv('grades.csv')\n",
    "print(grades)"
   ]
  },
  {
   "cell_type": "markdown",
   "id": "b2a49acb",
   "metadata": {},
   "source": [
    "No the dataframe is not tidy. The assignment grades are not standardized to a specific precision. The title Asst can be modified to Assignment to clarify the headings. In addition, the mean is placed as a row instead of allowing to be computed as a result of the dataset, it must now be filtered out for accuracy."
   ]
  },
  {
   "cell_type": "code",
   "execution_count": 71,
   "id": "873ff1ef",
   "metadata": {},
   "outputs": [
    {
     "name": "stdout",
     "output_type": "stream",
     "text": [
      "     Name  Asst1  Asst2  Asst3   Exam  Final\n",
      "0    Adam      9   8.00    8.0  60.00   42.0\n",
      "1    Bing      7   8.00    7.0  75.00   52.5\n",
      "2   Carla      6    NaN    5.0    NaN    INC\n",
      "3  Darius      6   7.00   10.0  80.00   56.0\n",
      "4    mean      7   7.67    7.5  71.67  50.17\n",
      "Saving CSV\n",
      "CSV Saved\n"
     ]
    }
   ],
   "source": [
    "# B)\n",
    "import re\n",
    "import numpy as np\n",
    "# Create a grading policy that is adjustable\n",
    "GRADING_POLICY = {\n",
    "    'exam' : 0.7,\n",
    "    'assignment': 0.1\n",
    "}\n",
    "\n",
    "assignment_column_regex = re.compile(r\"Asst[0-9]+\")\n",
    "\n",
    "\n",
    "# Define a function \n",
    "def finalscore(row):\n",
    "    final_grade = 0\n",
    "    for column in grades:\n",
    "        \n",
    "        try:\n",
    "            if assignment_column_regex.match(column) and pd.isna(row[column]):\n",
    "                assignment_grade =  (row[column]/10)*(GRADING_POLICY['assignment'])\n",
    "                final_grade += assignment_grade\n",
    "            elif column == \"Exam\":\n",
    "                if pd.isna(row[column]):\n",
    "                    return \"INC\"\n",
    "                exam_grade = (row[column]/100)*(GRADING_POLICY['exam'])\n",
    "                final_grade = final_grade + exam_grade\n",
    "        except Exception as e:\n",
    "            return \"INC\"\n",
    "\n",
    "    final_grade = np.round(final_grade*100, decimals=2)    \n",
    "    return str(final_grade)\n",
    "\n",
    "grades['Final'] = grades.apply(finalscore, axis=1)\n",
    "grades = grades.round(decimals= 2)\n",
    "\n",
    "print(grades)\n",
    "print(\"Saving CSV\")\n",
    "grades.to_csv(\"grades_calculated.csv\")\n",
    "print(\"CSV Saved\")\n"
   ]
  },
  {
   "cell_type": "code",
   "execution_count": 87,
   "id": "1b2124d5",
   "metadata": {},
   "outputs": [
    {
     "data": {
      "text/html": [
       "\n",
       "<div id=\"altair-viz-e6c5061dade94821a044fbffd1bf776e\"></div>\n",
       "<script type=\"text/javascript\">\n",
       "  var VEGA_DEBUG = (typeof VEGA_DEBUG == \"undefined\") ? {} : VEGA_DEBUG;\n",
       "  (function(spec, embedOpt){\n",
       "    let outputDiv = document.currentScript.previousElementSibling;\n",
       "    if (outputDiv.id !== \"altair-viz-e6c5061dade94821a044fbffd1bf776e\") {\n",
       "      outputDiv = document.getElementById(\"altair-viz-e6c5061dade94821a044fbffd1bf776e\");\n",
       "    }\n",
       "    const paths = {\n",
       "      \"vega\": \"https://cdn.jsdelivr.net/npm//vega@5?noext\",\n",
       "      \"vega-lib\": \"https://cdn.jsdelivr.net/npm//vega-lib?noext\",\n",
       "      \"vega-lite\": \"https://cdn.jsdelivr.net/npm//vega-lite@4.17.0?noext\",\n",
       "      \"vega-embed\": \"https://cdn.jsdelivr.net/npm//vega-embed@6?noext\",\n",
       "    };\n",
       "\n",
       "    function maybeLoadScript(lib, version) {\n",
       "      var key = `${lib.replace(\"-\", \"\")}_version`;\n",
       "      return (VEGA_DEBUG[key] == version) ?\n",
       "        Promise.resolve(paths[lib]) :\n",
       "        new Promise(function(resolve, reject) {\n",
       "          var s = document.createElement('script');\n",
       "          document.getElementsByTagName(\"head\")[0].appendChild(s);\n",
       "          s.async = true;\n",
       "          s.onload = () => {\n",
       "            VEGA_DEBUG[key] = version;\n",
       "            return resolve(paths[lib]);\n",
       "          };\n",
       "          s.onerror = () => reject(`Error loading script: ${paths[lib]}`);\n",
       "          s.src = paths[lib];\n",
       "        });\n",
       "    }\n",
       "\n",
       "    function showError(err) {\n",
       "      outputDiv.innerHTML = `<div class=\"error\" style=\"color:red;\">${err}</div>`;\n",
       "      throw err;\n",
       "    }\n",
       "\n",
       "    function displayChart(vegaEmbed) {\n",
       "      vegaEmbed(outputDiv, spec, embedOpt)\n",
       "        .catch(err => showError(`Javascript Error: ${err.message}<br>This usually means there's a typo in your chart specification. See the javascript console for the full traceback.`));\n",
       "    }\n",
       "\n",
       "    if(typeof define === \"function\" && define.amd) {\n",
       "      requirejs.config({paths});\n",
       "      require([\"vega-embed\"], displayChart, err => showError(`Error loading script: ${err.message}`));\n",
       "    } else {\n",
       "      maybeLoadScript(\"vega\", \"5\")\n",
       "        .then(() => maybeLoadScript(\"vega-lite\", \"4.17.0\"))\n",
       "        .then(() => maybeLoadScript(\"vega-embed\", \"6\"))\n",
       "        .catch(showError)\n",
       "        .then(() => displayChart(vegaEmbed));\n",
       "    }\n",
       "  })({\"config\": {\"view\": {\"continuousWidth\": 400, \"continuousHeight\": 300}}, \"data\": {\"name\": \"data-0ebe576cbc56c7b5959800721f0d5c4c\"}, \"mark\": \"bar\", \"encoding\": {\"facet\": {\"field\": \"Name\", \"type\": \"nominal\"}, \"x\": {\"field\": \"key_x\", \"title\": null, \"type\": \"nominal\"}, \"y\": {\"field\": \"value_x\", \"type\": \"quantitative\"}}, \"title\": \"Student Grades\", \"transform\": [{\"fold\": [\"Asst1\", \"Asst2\", \"Asst3\", \"Exam\", \"Final\"], \"as\": [\"key_x\", \"value_x\"]}], \"width\": 200, \"$schema\": \"https://vega.github.io/schema/vega-lite/v4.17.0.json\", \"datasets\": {\"data-0ebe576cbc56c7b5959800721f0d5c4c\": [{\"Name\": \"Adam\", \"Asst1\": 9, \"Asst2\": 8.0, \"Asst3\": 8.0, \"Exam\": 60.0, \"Final\": \"42.0\"}, {\"Name\": \"Bing\", \"Asst1\": 7, \"Asst2\": 8.0, \"Asst3\": 7.0, \"Exam\": 75.0, \"Final\": \"52.5\"}, {\"Name\": \"Carla\", \"Asst1\": 6, \"Asst2\": null, \"Asst3\": 5.0, \"Exam\": null, \"Final\": \"INC\"}, {\"Name\": \"Darius\", \"Asst1\": 6, \"Asst2\": 7.0, \"Asst3\": 10.0, \"Exam\": 80.0, \"Final\": \"56.0\"}, {\"Name\": \"mean\", \"Asst1\": 7, \"Asst2\": 7.67, \"Asst3\": 7.5, \"Exam\": 71.67, \"Final\": \"50.17\"}]}}, {\"mode\": \"vega-lite\"});\n",
       "</script>"
      ],
      "text/plain": [
       "alt.Chart(...)"
      ]
     },
     "execution_count": 87,
     "metadata": {},
     "output_type": "execute_result"
    }
   ],
   "source": [
    "# C)\n",
    "import altair as alt\n",
    "\n",
    "columns_per_student = [column for column in grades if assignment_column_regex.match(column)]\n",
    "\n",
    "columns_per_student.append('Exam')\n",
    "columns_per_student.append('Final')\n",
    "\n",
    "\n",
    "alt.Chart(grades, title=\"Student Grades\").transform_fold(\n",
    "    columns_per_student, \n",
    "    as_=['key_x', 'value_x']\n",
    ").encode(\n",
    "    x=alt.X('key_x:N', title=None),\n",
    "    y=alt.Y('value_x:Q', title=\"Score (Weighted)\"),\n",
    "    facet=alt.Facet('Name')\n",
    ").mark_bar().properties(width=200)\n"
   ]
  },
  {
   "cell_type": "markdown",
   "id": "b56e5830",
   "metadata": {
    "scrolled": false
   },
   "source": [
    "# Question 3 (4 points)\n",
    "\n",
    "This question uses a larger subset of the Billboard Top 100 sets, in the dataset `billboardhw.csv` provided with this assignment. It is similar to the smaller subset that appeared in Question 6 in the Week 3 Lab.\n",
    "\n",
    "\n",
    "A) Select all songs that first appeared on the charts in January 2000. (The date of first appearance is 'date_entered'.) \n",
    "\n",
    "*Hint: use pd.to_datetime()*\n",
    "\n",
    "B) Partially tidy this chart, by putting all rankings (for all weeks) in one column named 'ranking'.\n",
    "\n",
    "*Hint: use pd.melt() rather than wide_to_long().*\n",
    "\n",
    "C) Produce a single graphic showing, for each song in the chart, a line graph of ranking versus time (week)."
   ]
  }
 ],
 "metadata": {
  "celltoolbar": "Slideshow",
  "kernelspec": {
   "display_name": "Python 3 (ipykernel)",
   "language": "python",
   "name": "python3"
  },
  "language_info": {
   "codemirror_mode": {
    "name": "ipython",
    "version": 3
   },
   "file_extension": ".py",
   "mimetype": "text/x-python",
   "name": "python",
   "nbconvert_exporter": "python",
   "pygments_lexer": "ipython3",
   "version": "3.10.6"
  }
 },
 "nbformat": 4,
 "nbformat_minor": 5
}
